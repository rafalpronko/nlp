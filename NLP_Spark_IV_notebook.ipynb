{
 "cells": [
  {
   "cell_type": "markdown",
   "metadata": {},
   "source": [
    "Scraping company prepared for us more data and we have a knowledge how to use those data - so it is time to create better solution than before. "
   ]
  },
  {
   "cell_type": "markdown",
   "metadata": {},
   "source": [
    "Build the solution which can bite benchmark: 0.8. \n",
    "\n",
    "You have a big_data.csv file with more than milion records. \n",
    "\n",
    "Try to used different classification methods like Linear regression / Random Forest tree\n",
    "\n",
    "Try to used different NLP approach like TF-IDF / Ngram + TF-IDF,... \n",
    "\n",
    "Try different methods to clean up the text - remove stop words / do not remove stop words, lemmatization, stemminig - remember if you can use `eval` function tou can use also nltk functions. \n",
    "\n",
    "Everything you can find in Spark documentation or you can ask me."
   ]
  },
  {
   "cell_type": "code",
   "execution_count": 16,
   "metadata": {},
   "outputs": [],
   "source": []
  }
 ],
 "metadata": {
  "kernelspec": {
   "display_name": "Python 3",
   "language": "python",
   "name": "python3"
  },
  "language_info": {
   "codemirror_mode": {
    "name": "ipython",
    "version": 3
   },
   "file_extension": ".py",
   "mimetype": "text/x-python",
   "name": "python",
   "nbconvert_exporter": "python",
   "pygments_lexer": "ipython3",
   "version": "3.4.5"
  },
  "name": "SPARK - first classifier complete exercise",
  "notebookId": 1898716600165260
 },
 "nbformat": 4,
 "nbformat_minor": 1
}
