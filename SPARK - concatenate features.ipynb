{
 "cells": [
  {
   "cell_type": "markdown",
   "metadata": {},
   "source": [
    "# Concatenate features\n",
    "In NLP introduction notebook we created the bag of word from unigrams, bigrams and trigrams in simple way - we just change **ngrams_range** in CountVectorizer. In Spark this is not so easy. \n",
    "\n",
    "For this task we will use [VectorAssembler](https://spark.apache.org/docs/2.1.0/ml-features.html#vectorassembler). \n",
    "\n",
    "**Example**\n",
    "You have a table:\n",
    "\n",
    "id | hour | mobile | userFeatures     | clicked\n",
    "----|------|--------|------------------|---------\n",
    " 0  | 18   | 1.0    | [0.0, 10.0, 0.5] | 1.0\n",
    " \n",
    "With few features - as you remember in spark to estimator you can put only one column - so we need to concatenate this four columns to single. We need to get:\n",
    " \n",
    " id | hour | mobile | userFeatures     | clicked | features\n",
    "----|------|--------|------------------|---------|-----------------------------\n",
    " 0  | 18   | 1.0    | [0.0, 10.0, 0.5] | 1.0     | [18.0, 1.0, 0.0, 10.0, 0.5]\n",
    " \n",
    " \n",
    "Now we will create a new pipeline with ngrams features - bigram and trigrams\n",
    " \n",
    " As you probably read VectorAssembler is not working with strings - so simple pipeline with ngrams won't work. But we can train CountVectorizer for unigrams, bigram, trigrams and concatenate the results."
   ]
  },
  {
   "cell_type": "code",
   "execution_count": null,
   "metadata": {},
   "outputs": [],
   "source": [
    "#TODO - read data / lowercase data / import necessery library / clean labels"
   ]
  },
  {
   "cell_type": "code",
   "execution_count": null,
   "metadata": {},
   "outputs": [],
   "source": [
    "from pyspark.ml.feature import VectorAssembler\n",
    "def ngrams_count_vectorizer(inputCol=\"tokens\", outputCol=\"features\",  ngram_range=(1,1)):\n",
    "    ngrams = [\n",
    "        NGram(n=i, inputCol=inputCol, outputCol=\"{0}_grams\".format(i))\n",
    "        for i in range(ngram_range[0], ngram_range[1] + 1)\n",
    "    ]\n",
    "\n",
    "    vectorizers = [\n",
    "        CountVectorizer(inputCol=\"{0}_grams\".format(i),\n",
    "            outputCol=\"{0}_counts\".format(i))\n",
    "        for i in range(ngram_range[0], ngram_range[1] + 1)\n",
    "    ]\n",
    "\n",
    "    assembler = [VectorAssembler(\n",
    "        inputCols=[\"{0}_counts\".format(i) for i in range(ngram_range[0], ngram_range[1] + 1)],\n",
    "        outputCol=outputCol\n",
    "    )]\n",
    "\n",
    "    return Pipeline(stages=ngrams + vectorizers + assembler)"
   ]
  },
  {
   "cell_type": "code",
   "execution_count": null,
   "metadata": {},
   "outputs": [],
   "source": [
    "from pyspark.ml.feature import VectorAssembler\n",
    "tokenizer = Tokenizer(inputCol=\"lower_sentence\", outputCol=\"words_tokenizer_pipeline\")\n",
    "remover = StopWordsRemover(inputCol=\"words_tokenizer_pipeline\", outputCol=\"filtered_pipeline\")\n",
    "ngrams = ngrams_count_vectorizer(\"filtered_pipeline\", \"features_pipeline\", (1,2))\n",
    "nb = NaiveBayes(modelType=\"multinomial\", featuresCol=\"features_pipeline\", labelCol=\"indexed\",) \n",
    "pipeline = Pipeline(stages=[tokenizer, remover, ngrams, nb])"
   ]
  },
  {
   "cell_type": "code",
   "execution_count": null,
   "metadata": {},
   "outputs": [],
   "source": [
    "#TODO fit the model - show the accuracy"
   ]
  }
 ],
 "metadata": {
  "kernelspec": {
   "display_name": "Python 3",
   "language": "python",
   "name": "python3"
  },
  "language_info": {
   "codemirror_mode": {
    "name": "ipython",
    "version": 3
   },
   "file_extension": ".py",
   "mimetype": "text/x-python",
   "name": "python",
   "nbconvert_exporter": "python",
   "pygments_lexer": "ipython3",
   "version": "3.6.3"
  }
 },
 "nbformat": 4,
 "nbformat_minor": 2
}
